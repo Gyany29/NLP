{
 "cells": [
  {
   "cell_type": "code",
   "execution_count": 7,
   "metadata": {},
   "outputs": [],
   "source": [
    "Docs1_2_3 = ['A computer network is a set of computers sharing resources located on or provided by network nodes. The computers use common communication protocols over digital interconnections to communicate with each other.',\n",
    "'An operating system (OS) is system software that manages computer hardware, software resources, and provides common services for computer programs. Time-sharing operating systems schedule tasks for efficient use of the system and may also include accounting software for cost allocation of processor time, mass storage, printing, and other resources.',\n",
    "'An operating system (OS) is the program that, after being initially loaded into the computer by a boot program, manages all of the other application programs in a computer. The application programs make use of the operating system by making requests for services through a defined application program interface (API).']\n",
    "\n",
    "Docs1_2 = ['A computer network is a set of computers sharing resources located on or provided by network nodes. The computers use common communication protocols over digital interconnections to communicate with each other.',\n",
    "'An operating system (OS) is system software that manages computer hardware, software resources, and provides common services for computer programs. Time-sharing operating systems schedule tasks for efficient use of the system and may also include accounting software for cost allocation of processor time, mass storage, printing, and other resources.']"
   ]
  },
  {
   "cell_type": "code",
   "execution_count": 8,
   "metadata": {},
   "outputs": [
    {
     "name": "stdout",
     "output_type": "stream",
     "text": [
      "TF-IDF Matrix Shape for DOC 1, 2 and 3 :  (3, 72)\n",
      "Cosine Similarity Matrix Between Documents 1, 2 and 3 : \n",
      "[[1.         0.12397288 0.13367998]\n",
      " [0.12397288 1.         0.28562751]\n",
      " [0.13367998 0.28562751 1.        ]]\n",
      "TF-IDF Matrix Shape for DOC 1 & 2 :  (2, 55)\n",
      "Cosine Similarity Matrix Between Documents 1 & 2 : \n",
      "[[1.         0.13117019]\n",
      " [0.13117019 1.        ]]\n"
     ]
    }
   ],
   "source": [
    "from sklearn.feature_extraction.text import TfidfVectorizer as TF\n",
    "from sklearn.metrics.pairwise import cosine_similarity as cs\n",
    "tfidf_vectorizer = TF()\n",
    "tfidf_doc123 = tfidf_vectorizer.fit_transform(Docs1_2_3)\n",
    "print(\"TF-IDF Matrix Shape for DOC 1, 2 and 3 : \", tfidf_doc123.shape)\n",
    "cosine_sim123 = cs(tfidf_doc123, tfidf_doc123)\n",
    "print(\"Cosine Similarity Matrix Between Documents 1, 2 and 3 : \")\n",
    "print(cosine_sim123,end=\"\\n\")\n",
    "tfidf_doc12 = tfidf_vectorizer.fit_transform(Docs1_2)\n",
    "print(\"TF-IDF Matrix Shape for DOC 1 & 2 : \", tfidf_doc12.shape)\n",
    "cosine_sim12 = cs(tfidf_doc12, tfidf_doc12)\n",
    "print(\"Cosine Similarity Matrix Between Documents 1 & 2 : \") \n",
    "print(cosine_sim12)"
   ]
  }
 ],
 "metadata": {
  "kernelspec": {
   "display_name": "Python 3.9.6 64-bit",
   "language": "python",
   "name": "python3"
  },
  "language_info": {
   "codemirror_mode": {
    "name": "ipython",
    "version": 3
   },
   "file_extension": ".py",
   "mimetype": "text/x-python",
   "name": "python",
   "nbconvert_exporter": "python",
   "pygments_lexer": "ipython3",
   "version": "3.9.6"
  },
  "orig_nbformat": 4,
  "vscode": {
   "interpreter": {
    "hash": "11938c6bc6919ae2720b4d5011047913343b08a43b18698fd82dedb0d4417594"
   }
  }
 },
 "nbformat": 4,
 "nbformat_minor": 2
}
